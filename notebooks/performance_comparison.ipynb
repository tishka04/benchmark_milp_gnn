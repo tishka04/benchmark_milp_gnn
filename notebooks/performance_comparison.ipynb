{
  "cells": [
    {
      "cell_type": "markdown",
      "metadata": {},
      "source": [
        "# MILP vs GNN Benchmark Overview\n",
        "\n",
        "Run the cells below to compare MILP baseline estimates with the selected GNN model. Update RUN_DIR if you want to analyse a different experiment."
      ]
    },
    {
      "cell_type": "code",
      "execution_count": null,
      "metadata": {},
      "outputs": [
        {
          "ename": "FileNotFoundError",
          "evalue": "[Errno 2] No such file or directory: 'outputs\\\\gnn_runs\\\\baseline\\\\training_config_resolved.yaml'",
          "output_type": "error",
          "traceback": [
            "\u001b[31m---------------------------------------------------------------------------\u001b[39m",
            "\u001b[31mFileNotFoundError\u001b[39m                         Traceback (most recent call last)",
            "\u001b[36mCell\u001b[39m\u001b[36m \u001b[39m\u001b[32mIn[2]\u001b[39m\u001b[32m, line 29\u001b[39m\n\u001b[32m     27\u001b[39m RUN_DIR = Path(\u001b[33m'\u001b[39m\u001b[33moutputs/gnn_runs/baseline\u001b[39m\u001b[33m'\u001b[39m)\n\u001b[32m     28\u001b[39m SPLIT = \u001b[33m'\u001b[39m\u001b[33mtest\u001b[39m\u001b[33m'\u001b[39m\n\u001b[32m---> \u001b[39m\u001b[32m29\u001b[39m combined_df, summary = \u001b[43mbuild_combined_performance\u001b[49m\u001b[43m(\u001b[49m\u001b[43mRUN_DIR\u001b[49m\u001b[43m,\u001b[49m\u001b[43m \u001b[49m\u001b[43msplit\u001b[49m\u001b[43m=\u001b[49m\u001b[43mSPLIT\u001b[49m\u001b[43m,\u001b[49m\u001b[43m \u001b[49m\u001b[43mdevice\u001b[49m\u001b[43m=\u001b[49m\u001b[33;43m'\u001b[39;49m\u001b[33;43mcpu\u001b[39;49m\u001b[33;43m'\u001b[39;49m\u001b[43m)\u001b[49m\n\u001b[32m     30\u001b[39m \u001b[38;5;28;01mif\u001b[39;00m combined_df.empty:\n\u001b[32m     31\u001b[39m     \u001b[38;5;28;01mraise\u001b[39;00m \u001b[38;5;167;01mValueError\u001b[39;00m(\u001b[33mf\u001b[39m\u001b[33m\"\u001b[39m\u001b[33mNo evaluation rows found for split \u001b[39m\u001b[33m'\u001b[39m\u001b[38;5;132;01m{\u001b[39;00mSPLIT\u001b[38;5;132;01m}\u001b[39;00m\u001b[33m'\u001b[39m\u001b[33m.\u001b[39m\u001b[33m\"\u001b[39m)\n",
            "\u001b[36mFile \u001b[39m\u001b[32m~\\projects\\multilayer_milp_gnn\\benchmark\\src\\analysis\\performance.py:324\u001b[39m, in \u001b[36mbuild_combined_performance\u001b[39m\u001b[34m(run_dir, split, checkpoint, device)\u001b[39m\n\u001b[32m    322\u001b[39m run_path = Path(run_dir)\n\u001b[32m    323\u001b[39m resolved_cfg_path = run_path / \u001b[33m'\u001b[39m\u001b[33mtraining_config_resolved.yaml\u001b[39m\u001b[33m'\u001b[39m\n\u001b[32m--> \u001b[39m\u001b[32m324\u001b[39m cfg = \u001b[43m_load_training_config\u001b[49m\u001b[43m(\u001b[49m\u001b[43mresolved_cfg_path\u001b[49m\u001b[43m)\u001b[49m\n\u001b[32m    325\u001b[39m milp_df = build_milp_summary(cfg.data.index_path, split=split)\n\u001b[32m    326\u001b[39m gnn_df, summary = evaluate_gnn_performance(run_dir, split=split, checkpoint=checkpoint, device=device)\n",
            "\u001b[36mFile \u001b[39m\u001b[32m~\\projects\\multilayer_milp_gnn\\benchmark\\src\\analysis\\performance.py:50\u001b[39m, in \u001b[36m_load_training_config\u001b[39m\u001b[34m(resolved_path)\u001b[39m\n\u001b[32m     49\u001b[39m \u001b[38;5;28;01mdef\u001b[39;00m\u001b[38;5;250m \u001b[39m\u001b[34m_load_training_config\u001b[39m(resolved_path: Path) -> TrainingConfig:\n\u001b[32m---> \u001b[39m\u001b[32m50\u001b[39m     raw = yaml.safe_load(\u001b[43mresolved_path\u001b[49m\u001b[43m.\u001b[49m\u001b[43mread_text\u001b[49m\u001b[43m(\u001b[49m\u001b[43mencoding\u001b[49m\u001b[43m=\u001b[49m\u001b[33;43m'\u001b[39;49m\u001b[33;43mutf-8\u001b[39;49m\u001b[33;43m'\u001b[39;49m\u001b[43m)\u001b[49m)\n\u001b[32m     51\u001b[39m     \u001b[38;5;28;01mif\u001b[39;00m \u001b[38;5;129;01mnot\u001b[39;00m \u001b[38;5;28misinstance\u001b[39m(raw, \u001b[38;5;28mdict\u001b[39m):\n\u001b[32m     52\u001b[39m         \u001b[38;5;28;01mraise\u001b[39;00m \u001b[38;5;167;01mRuntimeError\u001b[39;00m(\u001b[33mf\u001b[39m\u001b[33m'\u001b[39m\u001b[33mTraining config at \u001b[39m\u001b[38;5;132;01m{\u001b[39;00mresolved_path\u001b[38;5;132;01m}\u001b[39;00m\u001b[33m is not a mapping\u001b[39m\u001b[33m'\u001b[39m)\n",
            "\u001b[36mFile \u001b[39m\u001b[32mc:\\Python313\\Lib\\pathlib\\_local.py:546\u001b[39m, in \u001b[36mPath.read_text\u001b[39m\u001b[34m(self, encoding, errors, newline)\u001b[39m\n\u001b[32m    543\u001b[39m \u001b[38;5;66;03m# Call io.text_encoding() here to ensure any warning is raised at an\u001b[39;00m\n\u001b[32m    544\u001b[39m \u001b[38;5;66;03m# appropriate stack level.\u001b[39;00m\n\u001b[32m    545\u001b[39m encoding = io.text_encoding(encoding)\n\u001b[32m--> \u001b[39m\u001b[32m546\u001b[39m \u001b[38;5;28;01mreturn\u001b[39;00m \u001b[43mPathBase\u001b[49m\u001b[43m.\u001b[49m\u001b[43mread_text\u001b[49m\u001b[43m(\u001b[49m\u001b[38;5;28;43mself\u001b[39;49m\u001b[43m,\u001b[49m\u001b[43m \u001b[49m\u001b[43mencoding\u001b[49m\u001b[43m,\u001b[49m\u001b[43m \u001b[49m\u001b[43merrors\u001b[49m\u001b[43m,\u001b[49m\u001b[43m \u001b[49m\u001b[43mnewline\u001b[49m\u001b[43m)\u001b[49m\n",
            "\u001b[36mFile \u001b[39m\u001b[32mc:\\Python313\\Lib\\pathlib\\_abc.py:632\u001b[39m, in \u001b[36mPathBase.read_text\u001b[39m\u001b[34m(self, encoding, errors, newline)\u001b[39m\n\u001b[32m    628\u001b[39m \u001b[38;5;28;01mdef\u001b[39;00m\u001b[38;5;250m \u001b[39m\u001b[34mread_text\u001b[39m(\u001b[38;5;28mself\u001b[39m, encoding=\u001b[38;5;28;01mNone\u001b[39;00m, errors=\u001b[38;5;28;01mNone\u001b[39;00m, newline=\u001b[38;5;28;01mNone\u001b[39;00m):\n\u001b[32m    629\u001b[39m \u001b[38;5;250m    \u001b[39m\u001b[33;03m\"\"\"\u001b[39;00m\n\u001b[32m    630\u001b[39m \u001b[33;03m    Open the file in text mode, read it, and close the file.\u001b[39;00m\n\u001b[32m    631\u001b[39m \u001b[33;03m    \"\"\"\u001b[39;00m\n\u001b[32m--> \u001b[39m\u001b[32m632\u001b[39m     \u001b[38;5;28;01mwith\u001b[39;00m \u001b[38;5;28;43mself\u001b[39;49m\u001b[43m.\u001b[49m\u001b[43mopen\u001b[49m\u001b[43m(\u001b[49m\u001b[43mmode\u001b[49m\u001b[43m=\u001b[49m\u001b[33;43m'\u001b[39;49m\u001b[33;43mr\u001b[39;49m\u001b[33;43m'\u001b[39;49m\u001b[43m,\u001b[49m\u001b[43m \u001b[49m\u001b[43mencoding\u001b[49m\u001b[43m=\u001b[49m\u001b[43mencoding\u001b[49m\u001b[43m,\u001b[49m\u001b[43m \u001b[49m\u001b[43merrors\u001b[49m\u001b[43m=\u001b[49m\u001b[43merrors\u001b[49m\u001b[43m,\u001b[49m\u001b[43m \u001b[49m\u001b[43mnewline\u001b[49m\u001b[43m=\u001b[49m\u001b[43mnewline\u001b[49m\u001b[43m)\u001b[49m \u001b[38;5;28;01mas\u001b[39;00m f:\n\u001b[32m    633\u001b[39m         \u001b[38;5;28;01mreturn\u001b[39;00m f.read()\n",
            "\u001b[36mFile \u001b[39m\u001b[32mc:\\Python313\\Lib\\pathlib\\_local.py:537\u001b[39m, in \u001b[36mPath.open\u001b[39m\u001b[34m(self, mode, buffering, encoding, errors, newline)\u001b[39m\n\u001b[32m    535\u001b[39m \u001b[38;5;28;01mif\u001b[39;00m \u001b[33m\"\u001b[39m\u001b[33mb\u001b[39m\u001b[33m\"\u001b[39m \u001b[38;5;129;01mnot\u001b[39;00m \u001b[38;5;129;01min\u001b[39;00m mode:\n\u001b[32m    536\u001b[39m     encoding = io.text_encoding(encoding)\n\u001b[32m--> \u001b[39m\u001b[32m537\u001b[39m \u001b[38;5;28;01mreturn\u001b[39;00m \u001b[43mio\u001b[49m\u001b[43m.\u001b[49m\u001b[43mopen\u001b[49m\u001b[43m(\u001b[49m\u001b[38;5;28;43mself\u001b[39;49m\u001b[43m,\u001b[49m\u001b[43m \u001b[49m\u001b[43mmode\u001b[49m\u001b[43m,\u001b[49m\u001b[43m \u001b[49m\u001b[43mbuffering\u001b[49m\u001b[43m,\u001b[49m\u001b[43m \u001b[49m\u001b[43mencoding\u001b[49m\u001b[43m,\u001b[49m\u001b[43m \u001b[49m\u001b[43merrors\u001b[49m\u001b[43m,\u001b[49m\u001b[43m \u001b[49m\u001b[43mnewline\u001b[49m\u001b[43m)\u001b[49m\n",
            "\u001b[31mFileNotFoundError\u001b[39m: [Errno 2] No such file or directory: 'outputs\\\\gnn_runs\\\\baseline\\\\training_config_resolved.yaml'"
          ]
        }
      ],
      "source": [
        "from pathlib import Path\n",
        "import pandas as pd\n",
        "import matplotlib.pyplot as plt\n",
        "import sys\n",
        "import os\n",
        "\n",
        "def _locate_project_root(start: Path) -> Path:\n",
        "    for candidate in [start, *start.parents]:\n",
        "        candidate = candidate.resolve()\n",
        "        if (candidate / 'src').exists():\n",
        "            return candidate\n",
        "    raise RuntimeError('Could not locate project root containing \"src\" directory')\n",
        "\n",
        "PROJECT_ROOT = _locate_project_root(Path.cwd())\n",
        "if str(PROJECT_ROOT) not in sys.path:\n",
        "    sys.path.insert(0, str(PROJECT_ROOT))\n",
        "\n",
        "os.chdir(PROJECT_ROOT)\n",
        "\n",
        "try:\n",
        "    import seaborn as sns\n",
        "    sns.set_theme(style='whitegrid')\n",
        "except ImportError:  # pragma: no cover\n",
        "    sns = None\n",
        "    plt.style.use('ggplot')\n",
        "\n",
        "from src.analysis.performance import build_combined_performance\n",
        "\n",
        "RUN_DIR = Path('outputs/gnn_runs/baseline')\n",
        "SPLIT = 'test'\n",
        "combined_df, summary = build_combined_performance(RUN_DIR, split=SPLIT, device='cpu')\n",
        "if combined_df.empty:\n",
        "    raise ValueError(f\"No evaluation rows found for split '{SPLIT}'.\")\n",
        "display(pd.DataFrame([summary]))\n",
        "display(combined_df[['scenario_id', 'milp_objective', 'gnn_cost_gap', 'gnn_violation_rate', 'gnn_speedup_est']])\n"
      ]
    },
    {
      "cell_type": "markdown",
      "metadata": {},
      "source": [
        "## Cost Gap by Scenario\n",
        "\n",
        "Relative cost gap compares the weighted dispatch cost produced by the GNN to the MILP objective (0 indicates parity)."
      ]
    },
    {
      "cell_type": "code",
      "execution_count": 1,
      "metadata": {},
      "outputs": [
        {
          "ename": "NameError",
          "evalue": "name 'combined_df' is not defined",
          "output_type": "error",
          "traceback": [
            "\u001b[31m---------------------------------------------------------------------------\u001b[39m",
            "\u001b[31mNameError\u001b[39m                                 Traceback (most recent call last)",
            "\u001b[36mCell\u001b[39m\u001b[36m \u001b[39m\u001b[32mIn[1]\u001b[39m\u001b[32m, line 1\u001b[39m\n\u001b[32m----> \u001b[39m\u001b[32m1\u001b[39m sorted_df = \u001b[43mcombined_df\u001b[49m.sort_values(\u001b[33m'\u001b[39m\u001b[33mgnn_cost_gap\u001b[39m\u001b[33m'\u001b[39m).reset_index(drop=\u001b[38;5;28;01mTrue\u001b[39;00m)\n\u001b[32m      2\u001b[39m labels = sorted_df[\u001b[33m'\u001b[39m\u001b[33mscenario_id\u001b[39m\u001b[33m'\u001b[39m].astype(\u001b[38;5;28mstr\u001b[39m)\n\u001b[32m      3\u001b[39m x = \u001b[38;5;28mrange\u001b[39m(\u001b[38;5;28mlen\u001b[39m(sorted_df))\n",
            "\u001b[31mNameError\u001b[39m: name 'combined_df' is not defined"
          ]
        }
      ],
      "source": [
        "sorted_df = combined_df.sort_values('gnn_cost_gap').reset_index(drop=True)\n",
        "labels = sorted_df['scenario_id'].astype(str)\n",
        "x = range(len(sorted_df))\n",
        "fig, ax = plt.subplots(figsize=(8, 4))\n",
        "ax.bar(x, sorted_df['gnn_cost_gap'], color='#4c72b0')\n",
        "ax.axhline(0, color='black', linestyle='--', linewidth=1, label='MILP objective')\n",
        "ax.set_xticks(list(x))\n",
        "ax.set_xticklabels(labels, rotation=45, ha='right')\n",
        "ax.set_ylabel('Relative cost gap')\n",
        "ax.set_xlabel('Scenario')\n",
        "ax.set_title('GNN cost gap relative to MILP objective')\n",
        "ax.legend()\n",
        "plt.tight_layout()\n"
      ]
    },
    {
      "cell_type": "markdown",
      "metadata": {},
      "source": [
        "## Feasibility / Violation Rate\n",
        "\n",
        "Constraint violation rate corresponds to the share of node-time points with unmet demand (after decoder corrections)."
      ]
    },
    {
      "cell_type": "code",
      "execution_count": null,
      "metadata": {},
      "outputs": [],
      "source": [
        "fig, ax = plt.subplots(figsize=(8, 4))\n",
        "ax.bar(x, sorted_df['gnn_violation_rate'], color='#dd8452')\n",
        "ax.set_xticks(list(x))\n",
        "ax.set_xticklabels(labels, rotation=45, ha='right')\n",
        "ax.set_ylabel('Violation rate')\n",
        "ax.set_xlabel('Scenario')\n",
        "ax.set_ylim(0, 1)\n",
        "ax.set_title('Feasibility gap (lower is better)')\n",
        "plt.tight_layout()\n"
      ]
    },
    {
      "cell_type": "markdown",
      "metadata": {},
      "source": [
        "## Estimated Speed-up\n",
        "\n",
        "MILP runtime uses the estimated CPU hours field from the scenario metadata, while GNN time comes from measured inference wall-clock."
      ]
    },
    {
      "cell_type": "code",
      "execution_count": null,
      "metadata": {},
      "outputs": [],
      "source": [
        "fig, ax = plt.subplots(figsize=(8, 4))\n",
        "speedups = sorted_df['gnn_speedup_est']\n",
        "ax.bar(x, speedups, color='#55a868')\n",
        "ax.set_xticks(list(x))\n",
        "ax.set_xticklabels(labels, rotation=45, ha='right')\n",
        "ax.set_yscale('log')\n",
        "ax.set_ylabel('Estimated MILP / GNN speed-up')\n",
        "ax.set_xlabel('Scenario')\n",
        "ax.set_title('Runtime advantage (log scale)')\n",
        "plt.tight_layout()\n"
      ]
    },
    {
      "cell_type": "markdown",
      "metadata": {},
      "source": [
        "## Cost Gap vs Feasibility Scatter\n",
        "\n",
        "Use the scatter plot to see whether cost accuracy trades off with feasibility."
      ]
    },
    {
      "cell_type": "code",
      "execution_count": null,
      "metadata": {},
      "outputs": [],
      "source": [
        "fig, ax = plt.subplots(figsize=(6, 6))\n",
        "ax.scatter(combined_df['gnn_cost_gap'], combined_df['gnn_violation_rate'], s=80, color='#4c72b0')\n",
        "for _, row in combined_df.iterrows():\n",
        "    ax.annotate(row['scenario_id'][-6:], (row['gnn_cost_gap'], row['gnn_violation_rate']),\n",
        "                textcoords='offset points', xytext=(4, 4), fontsize=9)\n",
        "ax.axhline(0, color='grey', linewidth=0.8)\n",
        "ax.axvline(0, color='grey', linewidth=0.8)\n",
        "ax.set_xlabel('Relative cost gap')\n",
        "ax.set_ylabel('Violation rate')\n",
        "ax.set_title('Cost accuracy vs feasibility')\n",
        "plt.tight_layout()\n"
      ]
    }
  ],
  "metadata": {
    "kernelspec": {
      "display_name": "Python 3",
      "language": "python",
      "name": "python3"
    },
    "language_info": {
      "codemirror_mode": {
        "name": "ipython",
        "version": 3
      },
      "file_extension": ".py",
      "mimetype": "text/x-python",
      "name": "python",
      "nbconvert_exporter": "python",
      "pygments_lexer": "ipython3",
      "version": "3.13.1"
    }
  },
  "nbformat": 4,
  "nbformat_minor": 5
}
