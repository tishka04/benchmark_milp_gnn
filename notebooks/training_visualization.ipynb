{
  "cells": [
    {
      "cell_type": "markdown",
      "metadata": {},
      "source": [
        "# GNN Training Diagnostics\n",
        "\n",
        "Visualise loss curves and validation metrics recorded during training. Re-run the training pipeline with the updated logging to populate the history files."
      ]
    },
    {
      "cell_type": "code",
      "metadata": {},
      "execution_count": null,
      "outputs": [],
      "source": [
        "from pathlib import Path\n",
        "import pandas as pd\n",
        "import matplotlib.pyplot as plt\n",
        "import sys\n",
        "\n",
        "def _locate_project_root(start: Path) -> Path:\n",
        "    for candidate in [start, *start.parents]:\n",
        "        candidate = candidate.resolve()\n",
        "        if (candidate / 'src').exists():\n",
        "            return candidate\n",
        "    raise RuntimeError('Could not locate project root containing \"src\" directory')\n",
        "\n",
        "PROJECT_ROOT = _locate_project_root(Path.cwd())\n",
        "if str(PROJECT_ROOT) not in sys.path:\n",
        "    sys.path.insert(0, str(PROJECT_ROOT))\n",
        "\n",
        "\n",
        "try:\n",
        "    import seaborn as sns\n",
        "    sns.set_theme(style='whitegrid')\n",
        "except ImportError:  # pragma: no cover\n",
        "    sns = None\n",
        "    plt.style.use('ggplot')\n",
        "\n",
        "from src.analysis.performance import load_training_history, load_step_losses\n",
        "\n",
        "RUN_DIR = Path('outputs/gnn_runs/baseline')\n",
        "history_df = None\n",
        "step_df = None\n",
        "try:\n",
        "    history_df = load_training_history(RUN_DIR)\n",
        "except FileNotFoundError as exc:\n",
        "    print(f'Training history not found: {exc}')\n",
        "try:\n",
        "    step_df = load_step_losses(RUN_DIR)\n",
        "except FileNotFoundError as exc:\n",
        "    print(f'Step-level losses not found: {exc}')\n",
        "\n",
        "if history_df is not None and not history_df.empty:\n",
        "    display(history_df.head())\n",
        "else:\n",
        "    print('Run training to generate history metrics.')\n",
        "if step_df is not None and not step_df.empty:\n",
        "    display(step_df.head())\n"
      ]
    },
    {
      "cell_type": "markdown",
      "metadata": {},
      "source": [
        "## Epoch-level Metrics\n"
      ]
    },
    {
      "cell_type": "code",
      "metadata": {},
      "execution_count": null,
      "outputs": [],
      "source": [
        "if history_df is not None and not history_df.empty:\n",
        "    fig, ax = plt.subplots(figsize=(8, 4))\n",
        "    ax.plot(history_df['epoch'], history_df['train_loss'], marker='o', label='Train loss')\n",
        "    for col, label in [('val_dispatch_error', 'Val dispatch error'),\n",
        "                     ('val_cost_gap', 'Val cost gap'),\n",
        "                     ('val_violation_rate', 'Val violation rate')]:\n",
        "        if col in history_df:\n",
        "            ax.plot(history_df['epoch'], history_df[col], marker='o', label=label)\n",
        "    if 'is_best' in history_df:\n",
        "        best = history_df[history_df['is_best']]\n",
        "        if not best.empty:\n",
        "            ax.scatter(best['epoch'], best['train_loss'], s=160, marker='*', color='gold', edgecolor='black', label='Best epoch')\n",
        "    ax.set_xlabel('Epoch')\n",
        "    ax.set_ylabel('Metric value')\n",
        "    ax.set_title('Training vs validation metrics')\n",
        "    ax.legend()\n",
        "    ax.grid(True, alpha=0.3)\n",
        "    plt.tight_layout()\n",
        "else:\n",
        "    print('No epoch history to plot.')\n"
      ]
    },
    {
      "cell_type": "markdown",
      "metadata": {},
      "source": [
        "## Step-level Loss\n"
      ]
    },
    {
      "cell_type": "code",
      "metadata": {},
      "execution_count": null,
      "outputs": [],
      "source": [
        "if step_df is not None and not step_df.empty:\n",
        "    fig, ax = plt.subplots(figsize=(8, 4))\n",
        "    ax.plot(step_df['step'], step_df['loss'], linewidth=1, alpha=0.8, label='Instantaneous loss')\n",
        "    if 'step' in step_df:\n",
        "        rolling = step_df.set_index('step')['loss'].rolling(window=10, min_periods=1).mean()\n",
        "        ax.plot(rolling.index, rolling.values, color='red', linewidth=2, label='Rolling mean (10 steps)')\n",
        "    ax.set_xlabel('Global step')\n",
        "    ax.set_ylabel('Loss')\n",
        "    ax.set_title('Mini-batch loss trajectory')\n",
        "    ax.legend()\n",
        "    ax.grid(True, alpha=0.3)\n",
        "    plt.tight_layout()\n",
        "else:\n",
        "    print('No step-level loss data available.')\n"
      ]
    }
  ],
  "metadata": {
    "kernelspec": {
      "display_name": "Python 3",
      "language": "python",
      "name": "python3"
    },
    "language_info": {
      "name": "python",
      "version": "3.x",
      "mimetype": "text/x-python",
      "nbconvert_exporter": "python",
      "pygments_lexer": "ipython3",
      "codemirror_mode": {
        "name": "ipython",
        "version": 3
      }
    }
  },
  "nbformat": 4,
  "nbformat_minor": 5
}